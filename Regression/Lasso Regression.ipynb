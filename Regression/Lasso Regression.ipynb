{
 "cells": [
  {
   "cell_type": "markdown",
   "id": "fc9e3e71",
   "metadata": {},
   "source": [
    "# Lasso Regression\n",
    "\n",
    "Lasso Regression simply works by adding the absolute value of a new variable. "
   ]
  },
  {
   "cell_type": "code",
   "execution_count": 8,
   "id": "f4773efb",
   "metadata": {},
   "outputs": [
    {
     "data": {
      "text/plain": [
       "LinearRegression()"
      ]
     },
     "execution_count": 8,
     "metadata": {},
     "output_type": "execute_result"
    }
   ],
   "source": [
    "import pandas as pd\n",
    "import numpy as np\n",
    "from sklearn.linear_model import LinearRegression\n",
    "from sklearn.metrics import mean_squared_error\n",
    "\n",
    "X_train = np.array([[1],[2],[3],[4],[5]])\n",
    "X_test = np.array([[6],[7],[8],[9],[10]])\n",
    "\n",
    "y_train = np.array([[2],[4],[6],[8],[10]])\n",
    "y_test = np.array([[13],[15],[18],[23],[28]])\n",
    "\n",
    "lin = LinearRegression()\n",
    "lin.fit(X_train,y_train)"
   ]
  },
  {
   "cell_type": "code",
   "execution_count": 45,
   "id": "484a4052",
   "metadata": {},
   "outputs": [
    {
     "name": "stdout",
     "output_type": "stream",
     "text": [
      "TRAINING...\n"
     ]
    },
    {
     "data": {
      "text/plain": [
       "[<matplotlib.lines.Line2D at 0x1d0d7333340>]"
      ]
     },
     "execution_count": 45,
     "metadata": {},
     "output_type": "execute_result"
    },
    {
     "data": {
      "image/png": "[encoded data removed]",
      "text/plain": [
       "<Figure size 432x288 with 1 Axes>"
      ]
     },
     "metadata": {
      "needs_background": "light"
     },
     "output_type": "display_data"
    }
   ],
   "source": [
    "import matplotlib.pyplot as plt\n",
    "\n",
    "m = lin.coef_\n",
    "b = lin.intercept_\n",
    "train_pred = lin.predict(X_train)\n",
    "\n",
    "print(\"TRAINING...\")\n",
    "plt.scatter(X_train,y_train)\n",
    "plt.plot(X_train, m*X_train+b,'-r')"
   ]
  },
  {
   "cell_type": "code",
   "execution_count": 46,
   "id": "c2f3ea9b",
   "metadata": {},
   "outputs": [
    {
     "name": "stdout",
     "output_type": "stream",
     "text": [
      "TESTING...\n"
     ]
    },
    {
     "data": {
      "text/plain": [
       "[<matplotlib.lines.Line2D at 0x1d0d73f1eb0>]"
      ]
     },
     "execution_count": 46,
     "metadata": {},
     "output_type": "execute_result"
    },
    {
     "data": {
      "image/png": "[encoded data removed]",
      "text/plain": [
       "<Figure size 432x288 with 1 Axes>"
      ]
     },
     "metadata": {
      "needs_background": "light"
     },
     "output_type": "display_data"
    }
   ],
   "source": [
    "print(\"TESTING...\")\n",
    "test_pred = lin.predict(X_test)\n",
    "plt.scatter(X_test,y_test)\n",
    "plt.plot(X_test, m*X_test+b,'-r')"
   ]
  },
  {
   "cell_type": "code",
   "execution_count": 18,
   "id": "cc35aaae",
   "metadata": {},
   "outputs": [
    {
     "data": {
      "text/plain": [
       "(array([[2.]]), array([0.]))"
      ]
     },
     "execution_count": 18,
     "metadata": {},
     "output_type": "execute_result"
    }
   ],
   "source": [
    "lin.coef_, lin.intercept_"
   ]
  },
  {
   "cell_type": "code",
   "execution_count": 49,
   "id": "03097e6a",
   "metadata": {},
   "outputs": [
    {
     "name": "stdout",
     "output_type": "stream",
     "text": [
      "Linear regression prediction in training: [[ 2.]\n",
      " [ 4.]\n",
      " [ 6.]\n",
      " [ 8.]\n",
      " [10.]]\n",
      "Linear regression prediction in testing: [[12.]\n",
      " [14.]\n",
      " [16.]\n",
      " [18.]\n",
      " [20.]]\n"
     ]
    }
   ],
   "source": [
    "print(\"Linear regression prediction in training:\",train_pred)\n",
    "print(\"Linear regression prediction in testing:\",test_pred) # Bad predictions due to overfitting"
   ]
  },
  {
   "cell_type": "code",
   "execution_count": 87,
   "id": "bb43a386",
   "metadata": {},
   "outputs": [
    {
     "data": {
      "text/plain": [
       "Lasso(alpha=-0.9)"
      ]
     },
     "execution_count": 87,
     "metadata": {},
     "output_type": "execute_result"
    }
   ],
   "source": [
    "from sklearn.linear_model import Lasso\n",
    "\n",
    "lasso = Lasso(alpha=-0.9)\n",
    "lasso.fit(X_train, y_train)"
   ]
  },
  {
   "cell_type": "code",
   "execution_count": 88,
   "id": "01b052ba",
   "metadata": {},
   "outputs": [
    {
     "data": {
      "text/plain": [
       "(array([2.45]), array([-1.35]))"
      ]
     },
     "execution_count": 88,
     "metadata": {},
     "output_type": "execute_result"
    }
   ],
   "source": [
    "lasso.coef_, lasso.intercept_"
   ]
  },
  {
   "cell_type": "code",
   "execution_count": 89,
   "id": "bd39f93e",
   "metadata": {},
   "outputs": [],
   "source": [
    "lasso_m = lasso.coef_\n",
    "lasso_b = lasso.intercept_"
   ]
  },
  {
   "cell_type": "code",
   "execution_count": 90,
   "id": "82d3d36e",
   "metadata": {},
   "outputs": [
    {
     "name": "stdout",
     "output_type": "stream",
     "text": [
      "Lasso training..\n"
     ]
    },
    {
     "data": {
      "text/plain": [
       "[<matplotlib.lines.Line2D at 0x1d0d78f95b0>]"
      ]
     },
     "execution_count": 90,
     "metadata": {},
     "output_type": "execute_result"
    },
    {
     "data": {
      "image/png": "[encoded data removed]",
      "text/plain": [
       "<Figure size 432x288 with 1 Axes>"
      ]
     },
     "metadata": {
      "needs_background": "light"
     },
     "output_type": "display_data"
    }
   ],
   "source": [
    "print(\"Lasso training..\")\n",
    "lasso_train_pred = lasso.predict(X_train)\n",
    "plt.scatter(X_train,y_train)\n",
    "plt.plot(X_train, lasso_m*X_train+lasso_b,'-r')"
   ]
  },
  {
   "cell_type": "code",
   "execution_count": 91,
   "id": "0aa5071f",
   "metadata": {},
   "outputs": [
    {
     "name": "stdout",
     "output_type": "stream",
     "text": [
      "Lasso prediction in training: [ 1.1   3.55  6.    8.45 10.9 ]\n"
     ]
    }
   ],
   "source": [
    "print(\"Lasso prediction in training:\",lasso_train_pred)"
   ]
  },
  {
   "cell_type": "code",
   "execution_count": 92,
   "id": "49d35291",
   "metadata": {},
   "outputs": [
    {
     "name": "stdout",
     "output_type": "stream",
     "text": [
      "Lasso testing..\n"
     ]
    },
    {
     "data": {
      "text/plain": [
       "[<matplotlib.lines.Line2D at 0x1d0d795e7f0>]"
      ]
     },
     "execution_count": 92,
     "metadata": {},
     "output_type": "execute_result"
    },
    {
     "data": {
      "image/png": "[encoded data removed]",
      "text/plain": [
       "<Figure size 432x288 with 1 Axes>"
      ]
     },
     "metadata": {
      "needs_background": "light"
     },
     "output_type": "display_data"
    }
   ],
   "source": [
    "print(\"Lasso testing..\")\n",
    "lasso_test_pred = lasso.predict(X_test)\n",
    "plt.scatter(X_test,y_test)\n",
    "plt.plot(X_test, lasso_m*X_test+lasso_b,'-r')"
   ]
  },
  {
   "cell_type": "code",
   "execution_count": 93,
   "id": "a0b98d15",
   "metadata": {},
   "outputs": [
    {
     "name": "stdout",
     "output_type": "stream",
     "text": [
      "lasso test prediction: [13.35 15.8  18.25 20.7  23.15]\n"
     ]
    }
   ],
   "source": [
    "print(\"lasso test prediction:\", lasso_test_pred)"
   ]
  },
  {
   "cell_type": "code",
   "execution_count": 102,
   "id": "42203173",
   "metadata": {},
   "outputs": [
    {
     "name": "stdout",
     "output_type": "stream",
     "text": [
      "Linear regression prediction in training:[[ 2.  4.  6.  8. 10.]], Original values:[[ 2  4  6  8 10]]\n",
      "Linear regression prediction in testing:[[12. 14. 16. 18. 20.]], Original values:[[13 15 18 23 28]]\n",
      "Lasso prediction in training:[ 1.1   3.55  6.    8.45 10.9 ], Original values:[[ 2  4  6  8 10]]\n",
      "lasso test prediction:[13.35 15.8  18.25 20.7  23.15], Original values:[[13 15 18 23 28]]\n"
     ]
    }
   ],
   "source": [
    "# Overall comparision\n",
    "\n",
    "print(\"Linear regression prediction in training:{}, Original values:{}\".format(train_pred.reshape(1,-1), \n",
    "                                                                              y_train.reshape(1,-1)))\n",
    "print(\"Linear regression prediction in testing:{}, Original values:{}\".format(test_pred.reshape(1,-1),\n",
    "                                                                              y_test.reshape(1,-1))) \n",
    "\n",
    "print(\"Lasso prediction in training:{}, Original values:{}\".format(lasso_train_pred,y_train.reshape(1,-1)))\n",
    "print(\"lasso test prediction:{}, Original values:{}\".format(lasso_test_pred, y_test.reshape(1,-1)))"
   ]
  },
  {
   "cell_type": "code",
   "execution_count": null,
   "id": "6c3ae291",
   "metadata": {},
   "outputs": [],
   "source": []
  }
 ],
 "metadata": {
  "kernelspec": {
   "display_name": "Python 3 (ipykernel)",
   "language": "python",
   "name": "python3"
  },
  "language_info": {
   "codemirror_mode": {
    "name": "ipython",
    "version": 3
   },
   "file_extension": ".py",
   "mimetype": "text/x-python",
   "name": "python",
   "nbconvert_exporter": "python",
   "pygments_lexer": "ipython3",
   "version": "3.9.6"
  }
 },
 "nbformat": 4,
 "nbformat_minor": 5
}
