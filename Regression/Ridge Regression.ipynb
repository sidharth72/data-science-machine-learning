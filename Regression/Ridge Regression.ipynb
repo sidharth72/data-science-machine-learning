{
 "cells": [
  {
   "cell_type": "markdown",
   "id": "b3510d5c",
   "metadata": {},
   "source": [
    "# Ridge Regression\n",
    "\n",
    "Ridge regression simply works by adding a penalty term along with a variable which determinses how severe the penalty is. This is added to the cost function in order the shift the regression line a little bit to prevent overfitting or variance. \n",
    "\n",
    "* If the value of lambda is 0 Ridge Regression is just Linear Regression"
   ]
  },
  {
   "cell_type": "code",
   "execution_count": 2,
   "id": "c643b840",
   "metadata": {},
   "outputs": [
    {
     "data": {
      "text/plain": [
       "LinearRegression()"
      ]
     },
     "execution_count": 2,
     "metadata": {},
     "output_type": "execute_result"
    }
   ],
   "source": [
    "import pandas as pd\n",
    "import numpy as np\n",
    "from sklearn.linear_model import LinearRegression\n",
    "from sklearn.metrics import mean_squared_error\n",
    "\n",
    "X_train = np.array([[1],[2],[3],[4],[5]])\n",
    "X_test = np.array([[6],[7],[8],[9],[10]])\n",
    "\n",
    "y_train = np.array([[2],[4],[6],[8],[10]])\n",
    "y_test = np.array([[13],[15],[18],[23],[28]])\n",
    "\n",
    "lin = LinearRegression()\n",
    "lin.fit(X_train,y_train)"
   ]
  },
  {
   "cell_type": "code",
   "execution_count": 3,
   "id": "3e9736d8",
   "metadata": {},
   "outputs": [
    {
     "name": "stdout",
     "output_type": "stream",
     "text": [
      "TRAINING...\n"
     ]
    },
    {
     "data": {
      "text/plain": [
       "[<matplotlib.lines.Line2D at 0x2bde17fae20>]"
      ]
     },
     "execution_count": 3,
     "metadata": {},
     "output_type": "execute_result"
    },
    {
     "data": {
      "image/png": "[encoded data removed]",
      "text/plain": [
       "<Figure size 432x288 with 1 Axes>"
      ]
     },
     "metadata": {
      "needs_background": "light"
     },
     "output_type": "display_data"
    }
   ],
   "source": [
    "import matplotlib.pyplot as plt\n",
    "\n",
    "m = lin.coef_\n",
    "b = lin.intercept_\n",
    "train_pred = lin.predict(X_train)\n",
    "\n",
    "print(\"TRAINING...\")\n",
    "plt.scatter(X_train,y_train)\n",
    "plt.plot(X_train, m*X_train+b,'-r')"
   ]
  },
  {
   "cell_type": "code",
   "execution_count": 4,
   "id": "8b60fe93",
   "metadata": {},
   "outputs": [
    {
     "name": "stdout",
     "output_type": "stream",
     "text": [
      "TESTING...\n"
     ]
    },
    {
     "data": {
      "text/plain": [
       "[<matplotlib.lines.Line2D at 0x2bde391afa0>]"
      ]
     },
     "execution_count": 4,
     "metadata": {},
     "output_type": "execute_result"
    },
    {
     "data": {
      "image/png": "[encoded data removed]",
      "text/plain": [
       "<Figure size 432x288 with 1 Axes>"
      ]
     },
     "metadata": {
      "needs_background": "light"
     },
     "output_type": "display_data"
    }
   ],
   "source": [
    "print(\"TESTING...\")\n",
    "test_pred = lin.predict(X_test)\n",
    "plt.scatter(X_test,y_test)\n",
    "plt.plot(X_test, m*X_test+b,'-r')"
   ]
  },
  {
   "cell_type": "code",
   "execution_count": 5,
   "id": "76ffe02e",
   "metadata": {},
   "outputs": [
    {
     "data": {
      "text/plain": [
       "(array([[2.]]), array([0.]))"
      ]
     },
     "execution_count": 5,
     "metadata": {},
     "output_type": "execute_result"
    }
   ],
   "source": [
    "lin.coef_, lin.intercept_"
   ]
  },
  {
   "cell_type": "code",
   "execution_count": 6,
   "id": "e317f5ce",
   "metadata": {},
   "outputs": [
    {
     "name": "stdout",
     "output_type": "stream",
     "text": [
      "Linear regression prediction in training: [[ 2.]\n",
      " [ 4.]\n",
      " [ 6.]\n",
      " [ 8.]\n",
      " [10.]]\n",
      "Linear regression prediction in testing: [[12.]\n",
      " [14.]\n",
      " [16.]\n",
      " [18.]\n",
      " [20.]]\n"
     ]
    }
   ],
   "source": [
    "print(\"Linear regression prediction in training:\",train_pred)\n",
    "print(\"Linear regression prediction in testing:\",test_pred) # Bad predictions due to overfitting"
   ]
  },
  {
   "cell_type": "code",
   "execution_count": 39,
   "id": "d01e7271",
   "metadata": {},
   "outputs": [
    {
     "data": {
      "text/plain": [
       "Ridge(alpha=-2, solver='cholesky')"
      ]
     },
     "execution_count": 39,
     "metadata": {},
     "output_type": "execute_result"
    }
   ],
   "source": [
    "from sklearn.linear_model import Ridge\n",
    "\n",
    "ridge = Ridge(alpha=-2, solver=\"cholesky\")\n",
    "ridge.fit(X_train, y_train)"
   ]
  },
  {
   "cell_type": "code",
   "execution_count": 40,
   "id": "e017f9cc",
   "metadata": {},
   "outputs": [
    {
     "data": {
      "text/plain": [
       "(array([[2.5]]), array([-1.5]))"
      ]
     },
     "execution_count": 40,
     "metadata": {},
     "output_type": "execute_result"
    }
   ],
   "source": [
    "ridge.coef_, ridge.intercept_"
   ]
  },
  {
   "cell_type": "code",
   "execution_count": 41,
   "id": "53c4ef76",
   "metadata": {},
   "outputs": [
    {
     "name": "stdout",
     "output_type": "stream",
     "text": [
      "Ridge training..\n"
     ]
    },
    {
     "data": {
      "text/plain": [
       "[<matplotlib.lines.Line2D at 0x2bde6fc8940>]"
      ]
     },
     "execution_count": 41,
     "metadata": {},
     "output_type": "execute_result"
    },
    {
     "data": {
      "image/png": "[encoded data removed]",
      "text/plain": [
       "<Figure size 432x288 with 1 Axes>"
      ]
     },
     "metadata": {
      "needs_background": "light"
     },
     "output_type": "display_data"
    }
   ],
   "source": [
    "import matplotlib.pyplot as plt\n",
    "ridge_m = ridge.coef_\n",
    "ridge_b = ridge.intercept_\n",
    "ridge_train_pred = ridge.predict(X_train)\n",
    "\n",
    "print(\"Ridge training..\")\n",
    "plt.scatter(X_train, y_train)\n",
    "plt.plot(X_train, ridge_m*X_train+ridge_b,'-r')"
   ]
  },
  {
   "cell_type": "code",
   "execution_count": 42,
   "id": "aaa1d682",
   "metadata": {},
   "outputs": [
    {
     "name": "stdout",
     "output_type": "stream",
     "text": [
      "Ridge testing..\n"
     ]
    },
    {
     "data": {
      "text/plain": [
       "[<matplotlib.lines.Line2D at 0x2bde7033ac0>]"
      ]
     },
     "execution_count": 42,
     "metadata": {},
     "output_type": "execute_result"
    },
    {
     "data": {
      "image/png": "[encoded data removed]",
      "text/plain": [
       "<Figure size 432x288 with 1 Axes>"
      ]
     },
     "metadata": {
      "needs_background": "light"
     },
     "output_type": "display_data"
    }
   ],
   "source": [
    "print(\"Ridge testing..\")\n",
    "\n",
    "ridge_test_pred = ridge.predict(X_test)\n",
    "plt.scatter(X_test, y_test)\n",
    "plt.plot(X_test, ridge_m*X_test+ridge_b,'-r')"
   ]
  },
  {
   "cell_type": "code",
   "execution_count": 44,
   "id": "1322c7f0",
   "metadata": {},
   "outputs": [
    {
     "name": "stdout",
     "output_type": "stream",
     "text": [
      "Linear regression prediction in training:[[ 2.  4.  6.  8. 10.]], Original values:[[ 2  4  6  8 10]]\n",
      "Linear regression prediction in testing:[[12. 14. 16. 18. 20.]], Original values:[[13 15 18 23 28]]\n",
      "Ridge prediction in training:[[ 1.   3.5  6.   8.5 11. ]], Original values:[[ 2  4  6  8 10]]\n",
      "Ridge test prediction:[[13.5 16.  18.5 21.  23.5]], Original values:[[13 15 18 23 28]]\n"
     ]
    }
   ],
   "source": [
    "\n",
    "print(\"Linear regression prediction in training:{}, Original values:{}\".format(train_pred.reshape(1,-1), \n",
    "                                                                              y_train.reshape(1,-1)))\n",
    "print(\"Linear regression prediction in testing:{}, Original values:{}\".format(test_pred.reshape(1,-1),\n",
    "                                                                              y_test.reshape(1,-1))) \n",
    "\n",
    "print(\"Ridge prediction in training:{}, Original values:{}\".format(ridge_train_pred.reshape(1,-1),y_train.reshape(1,-1)))\n",
    "print(\"Ridge test prediction:{}, Original values:{}\".format(ridge_test_pred.reshape(1,-1), y_test.reshape(1,-1)))"
   ]
  },
  {
   "cell_type": "markdown",
   "id": "15b84667",
   "metadata": {},
   "source": [
    "# Error calculation"
   ]
  },
  {
   "cell_type": "code",
   "execution_count": 20,
   "id": "df2008bb",
   "metadata": {},
   "outputs": [],
   "source": [
    "from sklearn.metrics import mean_squared_error\n",
    "\n",
    "# Linear Regression\n",
    "lin_train_mse = mean_squared_error(train_pred, y_train)\n",
    "lin_test_mse = mean_squared_error(test_pred, y_test)\n",
    "\n",
    "# Ridge Regression\n",
    "ridge_train_mse = mean_squared_error(ridge_train_pred, y_train)\n",
    "ridge_test_mse = mean_squared_error(ridge_test_pred, y_test)"
   ]
  },
  {
   "cell_type": "code",
   "execution_count": 21,
   "id": "a0650393",
   "metadata": {},
   "outputs": [
    {
     "name": "stdout",
     "output_type": "stream",
     "text": [
      "Linear regression MSE in training: 0.0\n",
      "Linear regression MSE in testing: 19.0\n",
      "\n",
      "Ridge regression MSE in training: 0.4999999999999993\n",
      "Ridge regression MSE in testing: 5.149999999999999\n"
     ]
    }
   ],
   "source": [
    "print(\"Linear regression MSE in training:\", lin_train_mse)\n",
    "print(\"Linear regression MSE in testing:\", lin_test_mse)\n",
    "\n",
    "print(\"\\nRidge regression MSE in training:\", ridge_train_mse)\n",
    "print(\"Ridge regression MSE in testing:\", ridge_test_mse)"
   ]
  },
  {
   "cell_type": "code",
   "execution_count": null,
   "id": "740f8a2a",
   "metadata": {},
   "outputs": [],
   "source": []
  }
 ],
 "metadata": {
  "kernelspec": {
   "display_name": "Python 3 (ipykernel)",
   "language": "python",
   "name": "python3"
  },
  "language_info": {
   "codemirror_mode": {
    "name": "ipython",
    "version": 3
   },
   "file_extension": ".py",
   "mimetype": "text/x-python",
   "name": "python",
   "nbconvert_exporter": "python",
   "pygments_lexer": "ipython3",
   "version": "3.9.6"
  }
 },
 "nbformat": 4,
 "nbformat_minor": 5
}
