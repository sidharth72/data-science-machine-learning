{
 "cells": [
  {
   "cell_type": "code",
   "execution_count": null,
   "id": "ac05fa1f",
   "metadata": {},
   "outputs": [],
   "source": [
    "#Loading the dataset\n",
    "\n",
    "import pandas as pd\n",
    "import numpy as np\n",
    "\n",
    "df = pd.read_csv('E:/datasets/sms_spam.csv')\n",
    "df"
   ]
  },
  {
   "cell_type": "code",
   "execution_count": 3,
   "id": "4689975e",
   "metadata": {},
   "outputs": [],
   "source": [
    "# assigning labels to the dataset, 0 for ham and 1 for spam\n",
    "\n",
    "df['label_num'] = df['type'].apply(lambda x: 1 if x == 'spam' else 0)"
   ]
  },
  {
   "cell_type": "code",
   "execution_count": 4,
   "id": "affa0842",
   "metadata": {},
   "outputs": [],
   "source": [
    "#splitting the dataset\n",
    "\n",
    "from sklearn.model_selection import train_test_split\n",
    "\n",
    "X_train, X_test, y_train, y_test = train_test_split(df['text'], df['label_num'], test_size=0.3, random_state=42)"
   ]
  },
  {
   "cell_type": "code",
   "execution_count": 5,
   "id": "72caf94d",
   "metadata": {},
   "outputs": [
    {
     "data": {
      "text/plain": [
       "MultinomialNB()"
      ]
     },
     "execution_count": 5,
     "metadata": {},
     "output_type": "execute_result"
    }
   ],
   "source": [
    "# Vectorizing the data or making some changes to the data for the model\n",
    "\n",
    "from sklearn.feature_extraction.text import TfidfVectorizer\n",
    "import joblib\n",
    "\n",
    "lst = X_train.tolist()\n",
    "vectorizer = TfidfVectorizer(input = lst, lowercase = True, stop_words = \"english\")\n",
    "train_transformed = vectorizer.fit_transform(X_train)\n",
    "test_transformed = vectorizer.transform(X_test)\n",
    "\n",
    "model = joblib.load('E:/DS_and_ML/Classification/SpamClassifier.pkl')\n",
    "model.fit(train_transformed, y_train)"
   ]
  },
  {
   "cell_type": "code",
   "execution_count": 6,
   "id": "7302fbd2",
   "metadata": {},
   "outputs": [
    {
     "name": "stdout",
     "output_type": "stream",
     "text": [
      "Prediction: [0, 0, 0, 0, 0, 0, 0, 0, 0, 0, 0, 0, 0, 0, 0, 0, 0, 0, 0, 0, 1, 0, 0, 0, 0, 0, 0, 0, 0, 0, 0, 0, 0, 0, 0, 0, 0, 0, 0, 1]\n",
      "Actual:     [0, 0, 0, 0, 0, 0, 0, 0, 0, 0, 0, 0, 0, 0, 0, 0, 1, 0, 0, 0, 1, 0, 0, 0, 0, 0, 0, 0, 0, 0, 0, 0, 0, 0, 0, 0, 0, 0, 0, 1]\n"
     ]
    }
   ],
   "source": [
    "prediction = model.predict(test_transformed[:40])\n",
    "actual = y_test[:40]\n",
    "\n",
    "print(\"Prediction:\", list(prediction))\n",
    "print(\"Actual:    \",list(actual))"
   ]
  },
  {
   "cell_type": "code",
   "execution_count": 7,
   "id": "034bdf39",
   "metadata": {},
   "outputs": [
    {
     "data": {
      "text/plain": [
       "array([[37,  1],\n",
       "       [ 0,  2]], dtype=int64)"
      ]
     },
     "execution_count": 7,
     "metadata": {},
     "output_type": "execute_result"
    }
   ],
   "source": [
    "from sklearn.metrics import confusion_matrix\n",
    "\n",
    "matrix = confusion_matrix(prediction, actual)\n",
    "matrix"
   ]
  },
  {
   "cell_type": "code",
   "execution_count": 8,
   "id": "09c72821",
   "metadata": {},
   "outputs": [
    {
     "name": "stdout",
     "output_type": "stream",
     "text": [
      "0.6666666666666666\n",
      "1.0\n",
      "0.8\n"
     ]
    }
   ],
   "source": [
    "precision = matrix[1][1]/(matrix[1][1]+matrix[0][1])\n",
    "recall = matrix[1][1]/(matrix[1][1]+matrix[1][0])\n",
    "f1score = matrix[1][1]/(matrix[1][1]+(matrix[1][0]+(matrix[0][1]/2)))\n",
    "\n",
    "print(precision)\n",
    "print(recall)\n",
    "print(f1score)"
   ]
  },
  {
   "cell_type": "code",
   "execution_count": 9,
   "id": "6a90d5aa",
   "metadata": {},
   "outputs": [
    {
     "name": "stdout",
     "output_type": "stream",
     "text": [
      "Alert! it's a Spam message!\n",
      "Its a Ham message.\n",
      "Its a Ham message.\n"
     ]
    }
   ],
   "source": [
    "message = [\"Congragulations! You have won a $10,000. Go to https://bit.ly/23343 to claim now.\",\n",
    "          \"Hey dude! how is it going?\",\n",
    "          \"Have you completed your notes?\"\n",
    "          ]\n",
    "\n",
    "message_transformed = vectorizer.transform(message)\n",
    "\n",
    "new_prediction = model.predict(message_transformed)\n",
    "\n",
    "for i in range(len(new_prediction)):\n",
    "    if new_prediction[i] == 0:\n",
    "        print(\"Its a Ham message.\")\n",
    "    else:\n",
    "        print(\"Alert! it's a Spam message!\")"
   ]
  },
  {
   "cell_type": "code",
   "execution_count": null,
   "id": "976a6a96",
   "metadata": {},
   "outputs": [],
   "source": []
  },
  {
   "cell_type": "code",
   "execution_count": null,
   "id": "4ad8d7e2",
   "metadata": {},
   "outputs": [],
   "source": []
  },
  {
   "cell_type": "code",
   "execution_count": null,
   "id": "fca542d3",
   "metadata": {},
   "outputs": [],
   "source": []
  }
 ],
 "metadata": {
  "kernelspec": {
   "display_name": "Python 3",
   "language": "python",
   "name": "python3"
  },
  "language_info": {
   "codemirror_mode": {
    "name": "ipython",
    "version": 3
   },
   "file_extension": ".py",
   "mimetype": "text/x-python",
   "name": "python",
   "nbconvert_exporter": "python",
   "pygments_lexer": "ipython3",
   "version": "3.8.8"
  }
 },
 "nbformat": 4,
 "nbformat_minor": 5
}
